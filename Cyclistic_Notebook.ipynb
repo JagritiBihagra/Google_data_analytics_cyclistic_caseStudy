{
  "cells": [
    {
      "cell_type": "code",
      "execution_count": null,
      "metadata": {
        "id": "eKGGMDBAThSf"
      },
      "outputs": [],
      "source": [
        "#Load the necessary libraries\n",
        "install.packages('tidyverse')\n",
        "install.packages('dplyr')\n",
        "install.packages('ggplot2')\n",
        "install.packages('lubridate')\n",
        "install.packages('janitor')\n",
        "install.packages('readr')\n",
        "install.packages('skimr')\n",
        "install.packages('data.table')\n",
        "install.packages('geosphere')"
      ]
    },
    {
      "cell_type": "code",
      "execution_count": null,
      "metadata": {
        "id": "Xqy9AC_wTjsK"
      },
      "outputs": [],
      "source": [
        "library(tidyverse)  #ready to use\n",
        "library(lubridate)\n",
        "library(janitor)\n",
        "library(dplyr)\n",
        "library(ggplot2)\n",
        "library(geosphere)\n",
        "library(data.table)\n",
        "library(skimr)\n",
        "library(readr)"
      ]
    },
    {
      "cell_type": "code",
      "source": [
        "install.packages('dplyr')"
      ],
      "metadata": {
        "id": "Wou2ktvLE7d7"
      },
      "execution_count": null,
      "outputs": []
    },
    {
      "cell_type": "code",
      "source": [
        "library(dplyr)"
      ],
      "metadata": {
        "id": "eRoQyf5xFCpd"
      },
      "execution_count": 18,
      "outputs": []
    },
    {
      "cell_type": "code",
      "execution_count": 7,
      "metadata": {
        "id": "RyxqcwgbTlsj"
      },
      "outputs": [],
      "source": [
        "#Load all the data, as well as combine every dataset\n",
        "trip20_Jan <- read.csv(\"/content/202101-divvy-tripdata.csv\")\n",
        "trip20_Feb <- read.csv(\"/content/202102-divvy-tripdata.csv\")\n",
        "trip20_Mar <- read.csv(\"/content/202103-divvy-tripdata.csv\")\n",
        "trip20_Apr <- read.csv(\"/content/202104-divvy-tripdata.csv\")\n",
        "trip20_May <- read.csv(\"/content/202105-divvy-tripdata.csv\")\n",
        "trip20_Jun <- read.csv(\"/content/202106-divvy-tripdata.csv\")\n",
        "trip20_Jul <- read.csv(\"/content/202107-divvy-tripdata.csv\")\n",
        "trip20_Aug <- read.csv(\"/content/202108-divvy-tripdata.csv\")\n",
        "trip20_Sep <- read.csv(\"/content/202109-divvy-tripdata.csv\")\n",
        "trip20_Oct <- read.csv(\"/content/202110-divvy-tripdata.csv\")\n",
        "trip20_Nov <- read.csv(\"/content/202111-divvy-tripdata.csv\")\n",
        "trip20_Dec <- read.csv(\"/content/202112-divvy-tripdata.csv\")"
      ]
    },
    {
      "cell_type": "code",
      "source": [
        "sum(is.na(trip20_Jan))\n",
        "sum(is.na(trip20_Feb))\n",
        "sum(is.na(trip20_Mar))\n",
        "sum(is.na(trip20_May))\n",
        "sum(is.na(trip20_Jun))\n",
        "sum(is.na(trip20_Jul))\n",
        "sum(is.na(trip20_Aug))\n",
        "sum(is.na(trip20_Sep))\n",
        "sum(is.na(trip20_Oct))\n",
        "sum(is.na(trip20_Dec))\n",
        "sum(is.na(trip20_Nov))\n",
        "sum(is.na(trip20_Apr))"
      ],
      "metadata": {
        "id": "pocASo8Oz5ff"
      },
      "execution_count": null,
      "outputs": []
    },
    {
      "cell_type": "code",
      "execution_count": null,
      "metadata": {
        "id": "HzqDliV5Uypt"
      },
      "outputs": [],
      "source": [
        "#Check the structure of datasets\n",
        "str(trip20_Dec)\n",
        "str(trip20_Nov)\n",
        "str(trip20_Jan)\n",
        "str(trip20_Feb)\n",
        "str(trip20_Apr)\n",
        "str(trip20_Aug)\n",
        "str(trip20_Mar)\n",
        "str(trip20_Jun)\n",
        "str(trip20_Jul)\n",
        "str(trip20_Oct)\n",
        "str(trip20_Sep)\n",
        "str(trip20_May)"
      ]
    },
    {
      "cell_type": "code",
      "source": [
        "compare_df_cols_same(trip20_Apr,trip20_Mar,trip20_May,trip20_Jun,trip20_Jul,trip20_Sep,trip20_Nov,trip20_Oct,trip20_Aug,trip20_Dec,trip20_Feb,trip20_Jan, bind_method = c(\"bind_rows\", \"rbind\"), verbose = TRUE)"
      ],
      "metadata": {
        "id": "Ko2ACWFgLD3X"
      },
      "execution_count": null,
      "outputs": []
    },
    {
      "cell_type": "code",
      "source": [
        "trips20data<- rbind(trip20_Jan, trip20_Feb, trip20_Mar, trip20_Apr, trip20_May, trip20_Jun,\n",
        "                    trip20_Jul, trip20_Aug, trip20_Sep, trip20_Oct, trip20_Nov, trip20_Dec)"
      ],
      "metadata": {
        "id": "p1EAqg-yMGJW"
      },
      "execution_count": 9,
      "outputs": []
    },
    {
      "cell_type": "code",
      "source": [
        "trips20data"
      ],
      "metadata": {
        "id": "lQCIQHLZuQic"
      },
      "execution_count": null,
      "outputs": []
    },
    {
      "cell_type": "code",
      "source": [
        "sum(is.na(trips20data))"
      ],
      "metadata": {
        "id": "ASGKdEi50RDm"
      },
      "execution_count": null,
      "outputs": []
    },
    {
      "cell_type": "code",
      "source": [
        "trips20data %>% drop_na(ride_id  ,rideable_type ,started_at, ended_at,start_station_name,start_station_id ,end_station_name,end_station_id , start_lat,start_lng\n",
        "                          ,end_lat,end_lng ,member_casual)"
      ],
      "metadata": {
        "id": "oKH0PgzEuyI_"
      },
      "execution_count": null,
      "outputs": []
    },
    {
      "cell_type": "code",
      "source": [
        "trips20data_v_2 <- trips20data"
      ],
      "metadata": {
        "id": "GoOhuIX_yaxv"
      },
      "execution_count": 12,
      "outputs": []
    },
    {
      "cell_type": "code",
      "source": [
        "trips20data_v_2[trips20data_v_2 == \"\"] <- NA"
      ],
      "metadata": {
        "id": "K3OmpHmXJrj8"
      },
      "execution_count": 32,
      "outputs": []
    },
    {
      "cell_type": "code",
      "source": [
        "sum(is.na(trips20data_v_2))\n",
        "trips20data_v_2"
      ],
      "metadata": {
        "id": "O-J-8i_DCRzm"
      },
      "execution_count": null,
      "outputs": []
    },
    {
      "cell_type": "code",
      "source": [
        "head(trips20data_v_2,5)"
      ],
      "metadata": {
        "id": "lsox8bKvL6OB"
      },
      "execution_count": null,
      "outputs": []
    },
    {
      "cell_type": "code",
      "source": [
        "trips20data_cleaned<-na.omit(trips20data_v_2)"
      ],
      "metadata": {
        "id": "3QucY7sMGY_K"
      },
      "execution_count": 45,
      "outputs": []
    },
    {
      "cell_type": "code",
      "source": [
        "trips20data_v_2 %>%\n",
        "  select(ride_id,rideable_type, started_at,ended_at,start_station_name,start_station_id ,end_station_name,end_station_id , start_lat,start_lng, end_lat,end_lng ,member_casual) %>%\n",
        "  na.omit()\n",
        "  view()"
      ],
      "metadata": {
        "id": "t80UTYCoIJja"
      },
      "execution_count": null,
      "outputs": []
    },
    {
      "cell_type": "code",
      "source": [
        "view(trips20data)"
      ],
      "metadata": {
        "id": "xcEogEsiNCed"
      },
      "execution_count": 58,
      "outputs": []
    },
    {
      "cell_type": "code",
      "source": [
        "# Filter out rows with null values\n",
        "trips20data <- na.omit(trips20data)"
      ],
      "metadata": {
        "id": "zubpHv-800Kj"
      },
      "execution_count": 73,
      "outputs": []
    },
    {
      "cell_type": "code",
      "source": [
        "str(trips20data)"
      ],
      "metadata": {
        "id": "DHxSdIswNOUy"
      },
      "execution_count": null,
      "outputs": []
    },
    {
      "cell_type": "code",
      "source": [
        "#To change the column data type Trips20data for \"started_at\" and \"ended_at\" from \"char\" to \"datetime\" format.\n",
        "trips20data_cleaned %>%  mutate(started_at=as_datetime(started_at),ended_at=as_datetime(ended_at))"
      ],
      "metadata": {
        "id": "RMxGQIRkNYPZ"
      },
      "execution_count": null,
      "outputs": []
    },
    {
      "cell_type": "code",
      "source": [
        "str(trips20data_cleaned)"
      ],
      "metadata": {
        "id": "16iHnrZAN0b6"
      },
      "execution_count": null,
      "outputs": []
    },
    {
      "cell_type": "code",
      "source": [
        "#Adding column day, month, year, and day of week to the data frame.\n",
        "trips20data_cleaned$date <- as.Date(trips20data_cleaned$started_at)\n",
        "trips20data_cleaned$month <- format(as.Date(trips20data_cleaned$date), \"%m\")\n",
        "trips20data_cleaned$day <- format(as.Date(trips20data_cleaned$date), \"%d\")\n",
        "trips20data_cleaned$year <- format(as.Date(trips20data_cleaned$date), \"%Y\")\n",
        "trips20data_cleaned$day_of_week <- format(as.Date(trips20data_cleaned$date), \"%A\")"
      ],
      "metadata": {
        "id": "ixabcsexOaQF"
      },
      "execution_count": 48,
      "outputs": []
    },
    {
      "cell_type": "code",
      "source": [
        "#Add the ride_duration column to the data frame.\n",
        "trips20data_cleaned$ride_duration <- (as.numeric(difftime(trips20data_cleaned$ended_at, trips20data_cleaned$started_at)))"
      ],
      "metadata": {
        "id": "dOdcirgrQLw7"
      },
      "execution_count": 49,
      "outputs": []
    },
    {
      "cell_type": "code",
      "source": [
        "colnames(trips20data_cleaned)\n",
        "glimpse(trips20data_cleaned)"
      ],
      "metadata": {
        "id": "97ssof87QlAz"
      },
      "execution_count": null,
      "outputs": []
    },
    {
      "cell_type": "code",
      "source": [
        "#Add ride_distance\n",
        "trips20data_cleaned$ride_distance <- distGeo(matrix(c(trips20data_cleaned$start_lng, trips20data_cleaned$start_lat), ncol=2),\n",
        "                                   matrix (c(trips20data_cleaned$end_lng, trips20data_cleaned$end_lat), ncol=2))\n",
        "trips20data_cleaned$ride_distance <- trips20data_cleaned$ride_distance/1000 #distance in km"
      ],
      "metadata": {
        "id": "CysDF9X_QtwT"
      },
      "execution_count": 52,
      "outputs": []
    },
    {
      "cell_type": "code",
      "source": [
        "glimpse(trips20data_cleaned)"
      ],
      "metadata": {
        "id": "EdgqmZvYVG26"
      },
      "execution_count": null,
      "outputs": []
    },
    {
      "cell_type": "code",
      "source": [
        "head(trips20data_cleaned)"
      ],
      "metadata": {
        "id": "MZOFzmQcVWsD"
      },
      "execution_count": null,
      "outputs": []
    },
    {
      "cell_type": "code",
      "source": [
        "#Removeing bad data\n",
        "#check for ride length equal to or less than 0\n",
        "nrow(subset(trips20data_cleaned,ride_duration <= 0))"
      ],
      "metadata": {
        "id": "Y4BKiuqCViHB"
      },
      "execution_count": null,
      "outputs": []
    },
    {
      "cell_type": "code",
      "source": [
        "#storing in the another datatframe\n",
        "trips20data_cleaned<-trips20data_cleaned[!(trips20data_cleaned$ride_duration <=0),]\n",
        "nrow(subset(trips20data_cleaned,ride_duration <= 0))"
      ],
      "metadata": {
        "id": "hxwS6ycxVteP"
      },
      "execution_count": 56,
      "outputs": []
    },
    {
      "cell_type": "markdown",
      "source": [
        "ANALYZE DATA\n"
      ],
      "metadata": {
        "id": "W3PHkLVVI5mV"
      }
    },
    {
      "cell_type": "code",
      "source": [
        "trips20data_cleaned %>%\n",
        "  group_by(member_casual) %>%\n",
        "  summarise(average_ride_duration = mean(ride_duration), median_length = median(ride_duration),\n",
        "            max_ride_duration = max(ride_duration), min_ride_duration = min(ride_duration))"
      ],
      "metadata": {
        "id": "TDaX78nnRFzc"
      },
      "execution_count": null,
      "outputs": []
    },
    {
      "cell_type": "code",
      "source": [
        "#Let's visualize members & casual riders by the total ride length\n",
        "trips20data_cleaned %>%\n",
        "  group_by(member_casual) %>%\n",
        "  summarise(ride_count = length(ride_id))"
      ],
      "metadata": {
        "id": "20tkjdigXerY"
      },
      "execution_count": null,
      "outputs": []
    },
    {
      "cell_type": "code",
      "source": [
        "ggplot(data=trips20data_cleaned) + geom_bar(mapping=aes(x=member_casual, fill=member_casual))\n",
        "                           + labs(title=\"Members vs Casual distribution\")"
      ],
      "metadata": {
        "id": "YwWZXODSYCgw"
      },
      "execution_count": null,
      "outputs": []
    },
    {
      "cell_type": "code",
      "source": [
        "trips20data_cleaned$day_of_week <- ordered(trips20data_cleaned$day_of_week,\n",
        "                                       levels=c(\"Sunday\", \"Monday\", \"Tuesday\", \"Wednesday\", \"Thursday\", \"Friday\", \"Saturday\"))\n",
        "\n",
        "trips20data_cleaned %>%\n",
        "  group_by(member_casual, day_of_week) %>%\n",
        "  summarise(number_of_rides = n()\n",
        "            ,average_ride_length = mean(ride_duration),.groups=\"drop\") %>%\n",
        "  arrange(member_casual, day_of_week)\n"
      ],
      "metadata": {
        "id": "aw42CDteQbb4"
      },
      "execution_count": 61,
      "outputs": []
    },
    {
      "cell_type": "code",
      "source": [
        "#Let's visualize the above table by days of week & number of rides taken by members and casual riders\n",
        "\n",
        "trips20data_cleaned %>%\n",
        "  group_by(member_casual, day_of_week) %>%\n",
        "  summarise(number_of_rides = n(), .groups=\"drop\") %>%\n",
        "  arrange(member_casual, day_of_week)  %>%\n",
        "  ggplot(aes(x = day_of_week, y = number_of_rides, fill = member_casual)) +\n",
        "  labs(title =\"Total rides of Members and Casual riders Vs. Day of the week\") +\n",
        "  geom_col(width=0.5, position = position_dodge(width=0.5)) +\n",
        "  scale_y_continuous(labels = function(x) format(x, scientific = FALSE))"
      ],
      "metadata": {
        "id": "Q8wU34C1Yqje"
      },
      "execution_count": null,
      "outputs": []
    },
    {
      "cell_type": "markdown",
      "source": [
        "According to the graph above, casual riders ride more frequently on weekdays than on weekends, whereas annual members ride relatively regularly on weekdays and weekends."
      ],
      "metadata": {
        "id": "0Gj3zLPKPUCE"
      }
    },
    {
      "cell_type": "code",
      "source": [
        "#Let's visualize the average ride by day of week\n",
        "trips20data_cleaned %>%\n",
        "  group_by(member_casual, day_of_week) %>%\n",
        "  summarise(average_ride_duration = mean(ride_duration), .groups=\"drop\") %>%\n",
        "  ggplot(aes(x = day_of_week, y = average_ride_duration, fill = member_casual)) +\n",
        "  geom_col(width=0.5, position = position_dodge(width=0.5)) +\n",
        "  labs(title =\"Average ride time of Members and Casual riders Vs. Day of the week\")"
      ],
      "metadata": {
        "id": "X2NwAunEYwWb"
      },
      "execution_count": null,
      "outputs": []
    },
    {
      "cell_type": "markdown",
      "source": [
        "The above graph shows that although members drive at a constant speed throughout the week including weekends, casual riders travel for longer periods of time during weekdays i.e from Monday to Friday."
      ],
      "metadata": {
        "id": "yjMDAdU6Pf2Z"
      }
    },
    {
      "cell_type": "code",
      "source": [
        "#Let's visualize the total rides taken by members and casual riders by month\n",
        "trips20data_cleaned %>%\n",
        "  group_by(member_casual, month) %>%\n",
        "  summarise(number_of_rides = n(),.groups=\"drop\") %>%\n",
        "  arrange(member_casual, month)  %>%\n",
        "  ggplot(aes(x = month, y = number_of_rides, fill = member_casual)) +\n",
        "  labs(title =\"Total rides by Members and Casual riders by Month\") +\n",
        "  theme(axis.text.x = element_text(angle = 45)) +\n",
        "  geom_col(width=0.5, position = position_dodge(width=0.5)) +\n",
        "  scale_y_continuous(labels = function(x) format(x, scientific = FALSE))"
      ],
      "metadata": {
        "id": "rVLN4Yw_CgGN"
      },
      "execution_count": null,
      "outputs": []
    },
    {
      "cell_type": "markdown",
      "source": [
        "We can see from the above graph that members rode more frequently than casual riders throughout the year"
      ],
      "metadata": {
        "id": "yh3TIm5rPnbm"
      }
    },
    {
      "cell_type": "code",
      "source": [
        "#Let's compare members and casual riders depending on ride distance\n",
        "trips20data_cleaned %>%\n",
        "  group_by(member_casual) %>% drop_na() %>%\n",
        "  summarise(average_ride_distance = mean(ride_distance)) %>%\n",
        "  ggplot() +\n",
        "  geom_col(mapping= aes(x= member_casual,y= average_ride_distance,fill=member_casual), show.legend = TRUE)+\n",
        "  labs(title = \"Mean distance traveled by Members and Casual riders\")"
      ],
      "metadata": {
        "id": "E41Fg4-FCpHm"
      },
      "execution_count": null,
      "outputs": []
    },
    {
      "cell_type": "markdown",
      "source": [
        "From the above graph, we can see that casual riders traveled a few kilometers further than members"
      ],
      "metadata": {
        "id": "J3isslFfPxn1"
      }
    },
    {
      "cell_type": "code",
      "source": [],
      "metadata": {
        "id": "m4xTEdj8DNEL"
      },
      "execution_count": null,
      "outputs": []
    }
  ],
  "metadata": {
    "colab": {
      "provenance": []
    },
    "kernelspec": {
      "display_name": "R",
      "name": "ir"
    },
    "language_info": {
      "name": "R"
    }
  },
  "nbformat": 4,
  "nbformat_minor": 0
}